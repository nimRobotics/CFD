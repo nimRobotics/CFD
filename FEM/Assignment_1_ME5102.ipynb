{
 "cells": [
  {
   "cell_type": "markdown",
   "metadata": {},
   "source": [
    "***\n",
    "# Method of weighted residuals\n",
    "\n",
    "https://en.wikiversity.org/wiki/Introduction_to_finite_elements/Weighted_residual_methods\n",
    "https://commonmark.org/help/\n",
    "\n",
    "Given the differential equation $$ \\frac{d}{dt}\\left[x\\frac{du}{dx}\\right] = \\frac{2}{x^2}$$\n",
    "Boundary conditions $$u(1)=2$$ and $$-x\\frac{du}{dx}\\Biggr|_{x=2} = \\frac{1}{2}$$\n",
    "Assuming the trial function as $$ u_{h}(x)=a_{0}+a_{1}x+a_{2}x^{2}+\\dots +a_{n}x^{n} $$\n",
    "Considering the first four terms only $$ u^\\sim_{h}(x)=a_{0}+a_{1}x+a_{2}x^{2}+a_{3}x^{3} $$\n",
    "Using boundary condition 1, we have $$a_{0}+a_{1}+a_{2}+a_{3}=2$$\n",
    "Using boundary condition 2, we have $$a_{1}+4a_{2}+12a_{3} = -\\frac{1}{4}$$\n",
    "Substituting the above to results in the trial function $$u^\\sim_{h}(x)=2 - \\frac{1}{4}(x-1)+a_{2}(x-1)(x-3)+a_{3}(x-1)(x^2+x-11)$$\n",
    "In order to get the residual, R we substitute our trial function in the given differential equation\n",
    "$$ R = \\frac{d}{dt}\\left[x\\frac{du}{dx}\\right] - \\frac{2}{x^2}$$\n",
    "$$ \\frac{du}{dx} = \\dfrac{12 a_3 x^2+8a_2x-48a_3-16a_2-1}{4}$$\n",
    "$$ R = \\dfrac{36 a_3x^2+16a_2x-48a_3-16a_2-1}{4} - \\frac{2}{x^2}$$\n",
    "\n",
    "## Exact Solution\n",
    "$$\\frac{2}{x}+\\frac{lnx}{2}-2$$"
   ]
  },
  {
   "cell_type": "code",
   "execution_count": null,
   "metadata": {},
   "outputs": [],
   "source": []
  },
  {
   "cell_type": "markdown",
   "metadata": {},
   "source": [
    "## Collocation Method"
   ]
  },
  {
   "cell_type": "code",
   "execution_count": 3,
   "metadata": {},
   "outputs": [
    {
     "name": "stdout",
     "output_type": "stream",
     "text": [
      "x =  4.89389362525\n"
     ]
    }
   ],
   "source": [
    "import numpy as np \n",
    "import math \n",
    "# print (math.log(14))\n",
    "# print(np.log(14)) \n",
    "# print(np.exp(1))\n",
    "x=6\n",
    "y=np.exp(0.3*x)*np.log(x)-2-x\n",
    "while y > 0.00001:\n",
    "\ty=np.exp(0.3*x)*np.log(x)-2-x\n",
    "#     first derivative of y\n",
    "\tdy=0.3*np.exp(0.3*x)*np.log(x)+(1/x)*np.exp(0.3*x) - 1\n",
    "\txn = x - (y/dy)\n",
    "# \tprint(\"x = \",x)\n",
    "\tx = xn\n",
    "# \tprint(\"y = \",y)\n",
    "print(\"x = \",x)"
   ]
  },
  {
   "cell_type": "markdown",
   "metadata": {},
   "source": [
    "## Subdomain Method"
   ]
  },
  {
   "cell_type": "code",
   "execution_count": null,
   "metadata": {},
   "outputs": [],
   "source": []
  },
  {
   "cell_type": "markdown",
   "metadata": {},
   "source": [
    "## Galerkin Method"
   ]
  },
  {
   "cell_type": "code",
   "execution_count": null,
   "metadata": {},
   "outputs": [],
   "source": []
  },
  {
   "cell_type": "markdown",
   "metadata": {},
   "source": [
    "## Least Squares Method"
   ]
  },
  {
   "cell_type": "code",
   "execution_count": null,
   "metadata": {},
   "outputs": [],
   "source": []
  }
 ],
 "metadata": {
  "kernelspec": {
   "display_name": "Python 3",
   "language": "python",
   "name": "python3"
  },
  "language_info": {
   "codemirror_mode": {
    "name": "ipython",
    "version": 3
   },
   "file_extension": ".py",
   "mimetype": "text/x-python",
   "name": "python",
   "nbconvert_exporter": "python",
   "pygments_lexer": "ipython3",
   "version": "3.6.7"
  }
 },
 "nbformat": 4,
 "nbformat_minor": 2
}
