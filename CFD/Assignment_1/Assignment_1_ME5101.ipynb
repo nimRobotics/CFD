{
 "cells": [
  {
   "cell_type": "markdown",
   "metadata": {},
   "source": [
    "***\n",
    "# Problem 6: Newton-Raphson method\n",
    "\n",
    "Given the equation $$e^{0.3x}ln(x) = x+2$$\n",
    "We can write it as $$y = e^{0.3x}ln(x)-x-2 $$\n",
    "Finding the derivative $$y^{'}=0.3e^{0.3x}ln(x)+\\frac{e^{0.3x}}{x}-1$$\n",
    "Performing iteration with the below equation taking x=6 as the initial guess $$x_{i+1} = x_{i} - \\frac{f_{i}}{f^{'}_{i}} $$ "
   ]
  },
  {
   "cell_type": "code",
   "execution_count": 2,
   "metadata": {},
   "outputs": [
    {
     "name": "stdout",
     "output_type": "stream",
     "text": [
      "x =  4.89389362525\n"
     ]
    },
    {
     "data": {
      "image/png": "[encoded data removed]",
      "text/plain": [
       "<matplotlib.figure.Figure at 0x7fae634cdb00>"
      ]
     },
     "metadata": {
      "needs_background": "light"
     },
     "output_type": "display_data"
    },
    {
     "name": "stdout",
     "output_type": "stream",
     "text": [
      "Iteration number   Absolute error \n",
      "---------------- -----------------\n",
      "               0     1.10610637475\n",
      "               1     0.23512441327\n",
      "               2   0.0129258473651\n",
      "               3 4.13628589619e-05\n",
      "               4 4.28117985507e-10\n"
     ]
    }
   ],
   "source": [
    "import numpy as np \n",
    "import matplotlib.pyplot as plt\n",
    "from astropy.table import Table, Column\n",
    "import math \n",
    "\n",
    "x=6\n",
    "y=np.exp(0.3*x)*np.log(x)-2-x\n",
    "lx = []\n",
    "ly = []\n",
    "error = []\n",
    "exact = []\n",
    "i = 0\n",
    "itera = []\n",
    "while y > 0.00001:\n",
    "\ty=np.exp(0.3*x)*np.log(x)-2-x\n",
    "\tdy=0.3*np.exp(0.3*x)*np.log(x)+(1/x)*np.exp(0.3*x) - 1\n",
    "\txn = x - (y/dy)\n",
    "\tlx.append(x)\n",
    "\tx = xn\n",
    "\tly.append(y)\n",
    "\ti = i+1\n",
    "print(\"x = \",x)\n",
    "\n",
    "# exact solution 4.89389362525\n",
    "for x in range(i):\n",
    "\texact.append(4.89389362525)\n",
    "\titera.append(x)\n",
    "    \n",
    "for x in range(i):\n",
    "\terror.append(abs(lx[x]-exact[x]))\n",
    "# potting the points\n",
    "plt.scatter(itera, error, marker='o')\n",
    "plt.ylabel('Absolute error', fontsize=16)\n",
    "plt.xlabel('Iteration number', fontsize=16)\n",
    "plt.show()\n",
    "t = Table([itera, error], names=('Iteration number', 'Absolute error'))\n",
    "print(t)"
   ]
  },
  {
   "cell_type": "markdown",
   "metadata": {},
   "source": [
    "# Problem 5: Trapezoidal Method\n",
    "\n",
    "\n",
    "\n",
    "\n",
    "\n",
    "\n",
    "\n",
    "\n"
   ]
  },
  {
   "cell_type": "code",
   "execution_count": 3,
   "metadata": {},
   "outputs": [
    {
     "name": "stdout",
     "output_type": "stream",
     "text": [
      " No        h         IntegralApprox  IntegralExact       Error      \n",
      "--- ---------------- -------------- -------------- -----------------\n",
      "  1  0.0666666666667  1.10708946485  1.10714871779 5.92529394907e-05\n",
      "  2  0.0333333333333  1.10713390337  1.10714871779 1.48144200054e-05\n",
      "  3  0.0222222222222  1.10714213351  1.10714871779  6.5842843413e-06\n",
      "  4  0.0166666666667  1.10714501412  1.10714871779 3.70367924885e-06\n",
      "  5  0.0133333333333  1.10714634743  1.10714871779 2.37036049411e-06\n",
      "  6  0.0111111111111  1.10714707171  1.10714871779 1.64608589537e-06\n",
      "  7 0.00952380952381  1.10714750842  1.10714871779 1.20937024217e-06\n",
      "  8 0.00833333333333  1.10714779187  1.10714871779 9.25924618533e-07\n",
      "  9 0.00740740740741   1.1071479862  1.10714871779 7.31595066972e-07\n",
      " 10 0.00666666666667   1.1071481252  1.10714871779 5.92592197535e-07\n",
      "\n",
      " Slope of the log-log curve is:  1.99996185283\n"
     ]
    },
    {
     "data": {
      "image/png": "[encoded data removed]",
      "text/plain": [
       "<matplotlib.figure.Figure at 0x7effd1efe710>"
      ]
     },
     "metadata": {
      "needs_background": "light"
     },
     "output_type": "display_data"
    }
   ],
   "source": [
    "from astropy.table import Table, Column\n",
    "import matplotlib.pyplot as plt\n",
    "import numpy as np \n",
    "\n",
    "a=0\n",
    "b=2\n",
    "ival=[]\n",
    "hval=[]\n",
    "no = []\n",
    "exact = []\n",
    "error =[]\n",
    "def calculate(n):\n",
    "\th=(b-a)/n\n",
    "\thval.append(h)\n",
    "\tA=0\n",
    "\tfor x in range(n):\n",
    "\t\tA=A+0.5*h*(1/(1+x*h*x*h) + 1/(1+(x*h+h)*(x*h+h)))\n",
    "\treturn(A)\n",
    "\n",
    "for x in range(1,11):\n",
    "\tival.append(calculate(30*x))\n",
    "\n",
    "\n",
    "for x in range(1,11):\n",
    "\tno.append(x)\n",
    "\texact.append(1.1071487177943273)\n",
    "# exact solution   1.1071487177943273\n",
    "\n",
    "for x in range(10):\n",
    "\terror.append(abs(ival[x]-exact[x]))\n",
    "\n",
    "t = Table([no , hval, ival, exact , error], names=('No','h', 'IntegralApprox' , ' IntegralExact', 'Error'))\n",
    "print(t)\n",
    "\n",
    "slope, intercept = np.polyfit(np.log(hval), np.log(error), 1)\n",
    "print(\"\\n Slope of the log-log curve is: \",slope)\n",
    "\n",
    "plt.scatter(np.log(hval), np.log(error))\n",
    "plt.ylabel('log(h)', fontsize=16)\n",
    "plt.xlabel('log(error)', fontsize=16)\n",
    "# function to show the plot\n",
    "plt.show()"
   ]
  }
 ],
 "metadata": {
  "kernelspec": {
   "display_name": "Python 3",
   "language": "python",
   "name": "python3"
  },
  "language_info": {
   "codemirror_mode": {
    "name": "ipython",
    "version": 3
   },
   "file_extension": ".py",
   "mimetype": "text/x-python",
   "name": "python",
   "nbconvert_exporter": "python",
   "pygments_lexer": "ipython3",
   "version": "3.6.7"
  }
 },
 "nbformat": 4,
 "nbformat_minor": 2
}
