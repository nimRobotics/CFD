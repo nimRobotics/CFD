{
 "cells": [
  {
   "cell_type": "markdown",
   "metadata": {},
   "source": [
    "***\n",
    "# Introduction\n",
    "In this project, we will analyze the unsteady, viscous, incompressible, isothermal, two-dimensional,\n",
    "laminar flow of Newtonian fluid in a cavity covered with a lid. Consider a rectangular cavity ABCD\n",
    "of dimensions shown in Figure 1.1. AB, CD, and AD are rigid walls, whereas BC is open.\n",
    "![lid image](lid.png)\n",
    "\n",
    "This work focuses on the correction of the Wiedemann Franz law which plays a pivotial role in thermoelectric material research. In section 2, we bring out the corrections to the Wiedemann Franz law and form a generalised law. We further see how the corrective function varies with scattering parameter, $r$ and reduced chemical potential, $\\mu^*$.\n",
    "In section 3,  we extremize the expression in form of the polylogarithmic functions for the thermal conductvity with respect to both reduced chemical potential, $\\mu^*$ and temperature. We also present the mathematical approach to reduce the phonon thermal conductivity.\n",
    "Section 4 will provide an insight to mathematical form obtained by extremising the electrical conductivity with respect to temperature.\n",
    "In the final section we present the conclusions. "
   ]
  },
  {
   "cell_type": "markdown",
   "metadata": {},
   "source": [
    "# Governing Equations\n",
    "\n",
    "Stream function \n",
    "\\begin{equation}\n",
    "\\omega = -\\left[\\frac{\\partial^2 \\psi}{\\partial x^2} +  \\frac{\\partial^2 \\psi}{\\partial y^2}\\right]=-\\nabla^2 \\psi\n",
    "\\end{equation}\n",
    "\n",
    "Navier-Stokes equations\n",
    "\\begin{equation}\n",
    "\\frac{\\partial u}{\\partial t} + u\\frac{\\partial u}{\\partial x} + v\\frac{\\partial u}{\\partial y}= -\\frac{1}{\\rho}\\frac{\\partial P}{\\partial x} + g_x + \\nu \\left [ \\frac{\\partial^2 u}{\\partial x^2} +  \\frac{\\partial^2 u}{\\partial y^2} \\right ]\n",
    "\\end{equation}\n",
    "\n",
    "\\begin{equation}\n",
    "\\frac{\\partial v}{\\partial t} + u\\frac{\\partial v}{\\partial x} + v\\frac{\\partial v}{\\partial y}= -\\frac{1}{\\rho}\\frac{\\partial P}{\\partial y} + g_y + \\nu \\left [ \\frac{\\partial^2 v}{\\partial x^2} +  \\frac{\\partial^2 v}{\\partial y^2} \\right ]\n",
    "\\end{equation}\n",
    "\n",
    "Vorticity relation \n",
    "\\begin{equation}\n",
    "\\frac{\\partial \\omega_z}{\\partial t} + u\\frac{\\partial \\omega_z}{\\partial x} + v\\frac{\\partial \\omega_z}{\\partial y}= \\nu \\left [ \\frac{\\partial^2 \\omega_z}{\\partial x^2} +  \\frac{\\partial^2 \\omega_z}{\\partial y^2} \\right ]\n",
    "\\end{equation}\n"
   ]
  },
  {
   "cell_type": "markdown",
   "metadata": {},
   "source": [
    "# Initial and Boundary Conditions\n"
   ]
  },
  {
   "cell_type": "markdown",
   "metadata": {},
   "source": [
    "# Non-dimensionalization of the Governing Equations\n"
   ]
  },
  {
   "cell_type": "markdown",
   "metadata": {},
   "source": [
    "# Discretization Schemes\n"
   ]
  },
  {
   "cell_type": "markdown",
   "metadata": {},
   "source": [
    "# Algorithm\n"
   ]
  },
  {
   "cell_type": "markdown",
   "metadata": {},
   "source": [
    "# Results \n",
    "## Grid Independence Studies\n",
    "## Streamlines for Varying R and Re\n",
    "## Profiles for Steady Flow\n"
   ]
  },
  {
   "cell_type": "markdown",
   "metadata": {},
   "source": [
    "# Discussion \n"
   ]
  },
  {
   "cell_type": "markdown",
   "metadata": {},
   "source": [
    "# Appendix"
   ]
  },
  {
   "cell_type": "code",
   "execution_count": null,
   "metadata": {},
   "outputs": [],
   "source": []
  }
 ],
 "metadata": {
  "kernelspec": {
   "display_name": "Python 3",
   "language": "python",
   "name": "python3"
  },
  "language_info": {
   "codemirror_mode": {
    "name": "ipython",
    "version": 3
   },
   "file_extension": ".py",
   "mimetype": "text/x-python",
   "name": "python",
   "nbconvert_exporter": "python",
   "pygments_lexer": "ipython3",
   "version": "3.6.7"
  }
 },
 "nbformat": 4,
 "nbformat_minor": 2
}
