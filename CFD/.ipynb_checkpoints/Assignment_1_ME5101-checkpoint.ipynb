{
 "cells": [
  {
   "cell_type": "markdown",
   "metadata": {},
   "source": [
    "***\n",
    "# Problem 6: Newton-Raphson method\n",
    "\n",
    "Given the equation $$e^{0.3x}ln(x) = x+2$$\n",
    "We can write it as $$y = e^{0.3x}ln(x)-x-2 $$\n",
    "Finding the derivative $$y^{'}=0.3e^{0.3x}ln(x)+\\frac{e^{0.3x}}{x}-1$$\n",
    "Performing iteration with the below equation taking x=6 as the initial guess $$x_{i+1} = x_{i} - \\frac{f_{i}}{f^{'}_{i}} $$"
   ]
  },
  {
   "cell_type": "code",
   "execution_count": 6,
   "metadata": {},
   "outputs": [
    {
     "name": "stdout",
     "output_type": "stream",
     "text": [
      "x =  4.89389362525\n"
     ]
    },
    {
     "data": {
      "image/png": "[encoded data removed]",
      "text/plain": [
       "<matplotlib.figure.Figure at 0x7f44eda39e10>"
      ]
     },
     "metadata": {
      "needs_background": "light"
     },
     "output_type": "display_data"
    },
    {
     "name": "stdout",
     "output_type": "stream",
     "text": [
      "      X               Y        \n",
      "------------- -----------------\n",
      "          6.0     2.83951312985\n",
      "5.12901803852    0.487320542025\n",
      "4.90681947262   0.0253545117731\n",
      "4.89393498811 8.08754746275e-05\n",
      "4.89389362568 8.30999269397e-10\n"
     ]
    }
   ],
   "source": [
    "import numpy as np \n",
    "import matplotlib.pyplot as plt\n",
    "from astropy.table import Table, Column\n",
    "import math \n",
    "\n",
    "x=6\n",
    "y=np.exp(0.3*x)*np.log(x)-2-x\n",
    "lx = []\n",
    "ly = []\n",
    "while y > 0.00001:\n",
    "\ty=np.exp(0.3*x)*np.log(x)-2-x\n",
    "\tdy=0.3*np.exp(0.3*x)*np.log(x)+(1/x)*np.exp(0.3*x) - 1\n",
    "\txn = x - (y/dy)\n",
    "# \tprint(\"x = \",x)\n",
    "\tlx.append(x)\n",
    "\tx = xn\n",
    "# \tprint(\"y = \",y)\n",
    "\tly.append(y)\n",
    "print(\"x = \",x)\n",
    "# potting the points\n",
    "plt.scatter(lx, ly)\n",
    "plt.ylabel('y', fontsize=16)\n",
    "plt.xlabel('x', fontsize=16)\n",
    "# function to show the plot\n",
    "plt.show()\n",
    "t = Table([lx, ly], names=('X', 'Y'))\n",
    "print(t)"
   ]
  },
  {
   "cell_type": "markdown",
   "metadata": {},
   "source": [
    "# Problem 5: Trapezoidal Method\n",
    "\n",
    "Given the equation $$e^{0.3x}ln(x) = x+2$$"
   ]
  },
  {
   "cell_type": "code",
   "execution_count": 7,
   "metadata": {},
   "outputs": [
    {
     "name": "stdout",
     "output_type": "stream",
     "text": [
      " No        h        IntegralApprox  IntegralExact       Error      \n",
      "--- --------------- -------------- -------------- -----------------\n",
      "  1             0.2  1.10661589574  1.10714871779 0.000532822057604\n",
      "  2             0.1  1.10701541645  1.10714871779  0.00013330134478\n",
      "  3 0.0666666666667  1.10708946485  1.10714871779 5.92529394907e-05\n",
      "  4            0.05  1.10711538646  1.10714871779 3.33313337444e-05\n",
      "  5            0.04  1.10712738528  1.10714871779 2.13325144161e-05\n",
      "  6 0.0333333333333  1.10713390337  1.10714871779 1.48144200054e-05\n",
      "  7 0.0285714285714  1.10713783365  1.10714871779   1.088414074e-05\n",
      "  8           0.025  1.10714038459  1.10714871779 8.33320857274e-06\n",
      "  9 0.0222222222222  1.10714213351  1.10714871779  6.5842843413e-06\n",
      " 10            0.02  1.10714338451  1.10714871779 5.33328237085e-06\n"
     ]
    },
    {
     "data": {
      "image/png": "[encoded data removed]",
      "text/plain": [
       "<matplotlib.figure.Figure at 0x7f44ed971748>"
      ]
     },
     "metadata": {
      "needs_background": "light"
     },
     "output_type": "display_data"
    }
   ],
   "source": [
    "from astropy.table import Table, Column\n",
    "import matplotlib.pyplot as plt\n",
    "import numpy as np \n",
    "\n",
    "a=0\n",
    "b=2\n",
    "ival=[]\n",
    "hval=[]\n",
    "no = []\n",
    "exact = []\n",
    "error =[]\n",
    "def calculate(n):\n",
    "\th=(b-a)/n\n",
    "\thval.append(h)\n",
    "\tA=0\n",
    "\tfor x in range(n):\n",
    "\t\tA=A+0.5*h*(1/(1+x*h*x*h) + 1/(1+(x*h+h)*(x*h+h)))\n",
    "\treturn(A)\n",
    "\n",
    "for x in range(1,11):\n",
    "\tival.append(calculate(10*x))\n",
    "\n",
    "\n",
    "for x in range(1,11):\n",
    "\tno.append(x)\n",
    "\texact.append(1.1071487177943273)\n",
    "# exact solution   1.1071487177943273\n",
    "\n",
    "for x in range(10):\n",
    "\terror.append(abs(ival[x]-exact[x]))\n",
    "\n",
    "t = Table([no , hval, ival, exact , error], names=('No','h', 'IntegralApprox' , ' IntegralExact', 'Error'))\n",
    "print(t)\n",
    "\n",
    "plt.scatter(error, hval)\n",
    "plt.ylabel('h', fontsize=16)\n",
    "plt.xlabel('Error', fontsize=16)\n",
    "# function to show the plot\n",
    "plt.show()"
   ]
  },
  {
   "cell_type": "code",
   "execution_count": null,
   "metadata": {},
   "outputs": [],
   "source": []
  }
 ],
 "metadata": {
  "kernelspec": {
   "display_name": "Python 3",
   "language": "python",
   "name": "python3"
  },
  "language_info": {
   "codemirror_mode": {
    "name": "ipython",
    "version": 3
   },
   "file_extension": ".py",
   "mimetype": "text/x-python",
   "name": "python",
   "nbconvert_exporter": "python",
   "pygments_lexer": "ipython3",
   "version": "3.6.7"
  }
 },
 "nbformat": 4,
 "nbformat_minor": 2
}
