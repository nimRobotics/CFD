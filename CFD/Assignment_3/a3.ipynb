{
 "cells": [
  {
   "cell_type": "markdown",
   "metadata": {},
   "source": [
    "# 1-D Transient Heat Conduction\n",
    "<img src=\"a3.png\">\n",
    "Given data -  Thickness,$L=0.24m$; Area,$A=8m^2$; Conductivity,$k=0.6W/m-k$; Density,$\\rho=3000Kg/m^3$; Specific heat,$C = 0.2KJ/Kg-K$\n",
    "At $t=0$ $T(t=0)=25^{\\circ}C$ \n",
    "Immediately after t = 0 $T(x=0)=100^{\\circ}C, T(x=L)=75^{\\circ}C$\n",
    "\n",
    "## Governing Equation\n",
    "\n",
    "$$\\frac{\\partial^2 T}{\\partial x^2} = \\frac{1}{\\alpha}\\frac{\\partial T}{\\partial t}$$\n",
    "where, $$T \\text{ is the temperature in }^{\\circ}C$$ \n",
    "$$x \\text{ is the distance in meters}$$ \n",
    "$$t \\text{ is the time in seconds}$$ \n",
    "$\\alpha$ is the thermal diffusivity $$\\alpha = \\frac{\\kappa}{\\rho C} $$\n",
    "\n",
    "## Derivation of the Governing equation\n",
    "Consider the element of width $\\delta x$ as shown in the digram\n",
    "$$\\text{change of heat energy from the segment in time }\\Delta T = \\text{heat in from left boundary} + \\text{heat input from right boundary}$$\n",
    "$$ C\\times \\rho A \\Delta x \\left [T(x,t+\\Delta t)-T(x,t)\\right] = \\Delta t \\left (-kA\\frac{dT}{dx}\\right )_x - \\Delta t \\left (-kA\\frac{dT}{dx}\\right )_{x+\\Delta x}$$\n",
    "$$\\frac{T(x,t+\\Delta t)-T(x,t)}{\\Delta t}=\\frac{k}{\\rho C}  \n",
    "     \\frac{\\left(\\frac{dT}{dx}\\right )_{x+\\Delta x}-\\left(\\frac{dT}{dx}\\right )_{x}}{\\Delta x}$$\n",
    "In the limit $\\Delta x \\to 0$ and $\\Delta t \\to 0$\n",
    "$$ \\frac{\\partial T}{\\partial t} = \\alpha\\frac{\\partial^2 T}{\\partial x^2} $$\n",
    "\n",
    "## Discretization\n",
    "1. Explicit Scheme\n",
    "$$\\frac{T_i^{n+1}-T_i^{n}}{\\Delta t} = \\alpha \\left[ \\frac{T_{i+1}^{n}-2T_i^{n}+T_{i-1}^{n}}{\\Delta x^2}  \\right]$$\n",
    "Using $r=\\frac{\\alpha s}{h^2}$\n",
    "\n",
    "$$ T_i^{n+1}-T_i^{n} = r \\left[ T_{i+1}^{n}-2T_i^{n}+T_{i-1}^{n}\\right]$$\n",
    "2. Implicit Scheme\n",
    "$$\\frac{T_i^{n+1}-T_i^{n}}{\\Delta t} = \\alpha \\left[ \\frac{T_{i+1}^{n+1}-2T_i^{n+1}+T_{i-1}^{n+1}}{\\Delta x^2}  \\right]$$\n",
    "$$T_i^{n+1}-T_i^{n} = r \\left[ T_{i+1}^{n+1}-2T_i^{n+1}+T_{i-1}^{n+1}\\right]$$\n",
    "3. Crank Nicholson Scheme\n",
    "$$\\frac{T_i^{n+1}-T_i^{n}}{\\Delta t} = \\alpha \\left[ \\frac{T_{i+1}^{n+1}+T_{i+1}^{n}-2T_i^{n+1}-2T_i^{n}+T_{i-1}^{n+1}+T_{i-1}^{n}}{2\\Delta x^2}  \\right]$$\n",
    "$$T_i^{n+1}-T_i^{n} = \\frac{r}{2} \\left[ T_{i+1}^{n+1}+T_{i+1}^{n}-2T_i^{n+1}-2T_i^{n}+T_{i-1}^{n+1}+T_{i-1}^{n}\\right]$$\n",
    "\n",
    "\n",
    "## Program"
   ]
  },
  {
   "cell_type": "code",
   "execution_count": null,
   "metadata": {},
   "outputs": [],
   "source": []
  },
  {
   "cell_type": "code",
   "execution_count": null,
   "metadata": {},
   "outputs": [],
   "source": []
  }
 ],
 "metadata": {
  "kernelspec": {
   "display_name": "Python 3",
   "language": "python",
   "name": "python3"
  },
  "language_info": {
   "codemirror_mode": {
    "name": "ipython",
    "version": 3
   },
   "file_extension": ".py",
   "mimetype": "text/x-python",
   "name": "python",
   "nbconvert_exporter": "python",
   "pygments_lexer": "ipython3",
   "version": "3.6.7"
  }
 },
 "nbformat": 4,
 "nbformat_minor": 2
}
